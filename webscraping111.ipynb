{
 "cells": [
  {
   "cell_type": "code",
   "execution_count": 1,
   "id": "27edbc12",
   "metadata": {},
   "outputs": [],
   "source": [
    "## Importing libraries\n",
    "import requests\n",
    "import bs4\n",
    "from bs4 import BeautifulSoup\n",
    "import pandas as pd"
   ]
  },
  {
   "cell_type": "code",
   "execution_count": 2,
   "id": "fb5ccc00",
   "metadata": {},
   "outputs": [],
   "source": [
    "## Accesing URL of web page Using BeautifulSoup\n",
    "url = \"https://www.allcot.com/en/portfolio-proyects/\"\n",
    "\n",
    "page = requests.get(url)\n",
    "\n",
    "soup = BeautifulSoup(page.content, \"html.parser\")"
   ]
  },
  {
   "cell_type": "code",
   "execution_count": 3,
   "id": "4dd044d8",
   "metadata": {},
   "outputs": [],
   "source": [
    "results = soup.find_all(\"div\", class_=\"portfolio-post\")"
   ]
  },
  {
   "cell_type": "code",
   "execution_count": 4,
   "id": "778ad6f1",
   "metadata": {},
   "outputs": [
    {
     "data": {
      "text/plain": [
       "9"
      ]
     },
     "execution_count": 4,
     "metadata": {},
     "output_type": "execute_result"
    }
   ],
   "source": [
    "len(results)"
   ]
  },
  {
   "cell_type": "code",
   "execution_count": 5,
   "id": "e224c769",
   "metadata": {
    "scrolled": true
   },
   "outputs": [
    {
     "name": "stdout",
     "output_type": "stream",
     "text": [
      "['RMDLT Portel-Pará REDD Project', 'Brazil', 'https://www.allcot.com/en/portfolio/rmdlt-portel-para-redd-project/']\n",
      "['Loma Los Colorados Landfill Gas Project', 'Chile', 'https://www.allcot.com/en/portfolio/loma-los-colorados-landfill-gas-project/']\n",
      "['Auto-generation of renewable energy in the Cañaveralejo Wastewater Treatment Plant of EMCALI', 'Colombia', 'https://www.allcot.com/en/portfolio/4-auto-generation-of-renewable-energy-in-the-canaveralejo-wastewater-treatment-plant-of-emcali/']\n",
      "['Recovery and combustion of methane Cañaveralejo Wastewater Treatment Plant of EMCALI', 'Colombia', 'https://www.allcot.com/en/portfolio/3-recovery-and-combustion-of-methane-canaveralejo-wastewater-treatment-plant-of-emcali/']\n",
      "['SHP Morro Azul CDM Project (JUN1164)', 'Colombia', 'https://www.allcot.com/en/portfolio/shp-morro-azul-cdm-project-jun1164/']\n",
      "['Durango – EcoMethane Landfill Gas to Energy Project', 'Mexico', 'https://www.allcot.com/en/portfolio/durango-ecomethane-landfill-gas-to-energy-project/']\n",
      "['Tecamac – EcoMethane Landfill Gas to Energy Project', 'Mexico', 'https://www.allcot.com/en/portfolio/tecamac_landfill_cdm_mexico/']\n",
      "['Aguascalientes – EcoMethane Landfill Gas to Energy Project', 'Mexico', 'https://www.allcot.com/en/portfolio/aguascalientes_landfill_cdm_mexico/']\n",
      "['Santa Marta Landfill Gas (LFG) Capture for Electricity Generation Project', 'Chile', 'https://www.allcot.com/en/portfolio/santa-marta-landfill-gas-recovery-project/']\n"
     ]
    }
   ],
   "source": [
    "## Making a list of scaped data from web page \n",
    "\n",
    "mylist = []\n",
    "\n",
    "for result in results:\n",
    "    names = result.find(\"h5\").text\n",
    "    country = result.find(\"li\").text\n",
    "    link =  result.find('a', href=True)\n",
    "    info = [names, country, link[\"href\"]]\n",
    "    mylist.append(info)\n",
    "    print(info)\n",
    "    "
   ]
  },
  {
   "cell_type": "code",
   "execution_count": 6,
   "id": "7fd5bdac",
   "metadata": {},
   "outputs": [
    {
     "data": {
      "text/plain": [
       "['RMDLT Portel-Pará REDD Project',\n",
       " 'Brazil',\n",
       " 'https://www.allcot.com/en/portfolio/rmdlt-portel-para-redd-project/']"
      ]
     },
     "execution_count": 6,
     "metadata": {},
     "output_type": "execute_result"
    }
   ],
   "source": [
    "## A look at the my list\n",
    "mylist[0]"
   ]
  },
  {
   "cell_type": "code",
   "execution_count": 7,
   "id": "19a1afa4",
   "metadata": {},
   "outputs": [
    {
     "data": {
      "text/plain": [
       "9"
      ]
     },
     "execution_count": 7,
     "metadata": {},
     "output_type": "execute_result"
    }
   ],
   "source": [
    "len(mylist)"
   ]
  },
  {
   "cell_type": "code",
   "execution_count": 8,
   "id": "07f5fa46",
   "metadata": {},
   "outputs": [],
   "source": [
    "## converting to dataframe using pandas\n",
    "df = pd.DataFrame(mylist, columns=[\"Name\", \"Country\", \"Links\"])"
   ]
  },
  {
   "cell_type": "code",
   "execution_count": 9,
   "id": "61ab8905",
   "metadata": {},
   "outputs": [
    {
     "data": {
      "text/html": [
       "<div>\n",
       "<style scoped>\n",
       "    .dataframe tbody tr th:only-of-type {\n",
       "        vertical-align: middle;\n",
       "    }\n",
       "\n",
       "    .dataframe tbody tr th {\n",
       "        vertical-align: top;\n",
       "    }\n",
       "\n",
       "    .dataframe thead th {\n",
       "        text-align: right;\n",
       "    }\n",
       "</style>\n",
       "<table border=\"1\" class=\"dataframe\">\n",
       "  <thead>\n",
       "    <tr style=\"text-align: right;\">\n",
       "      <th></th>\n",
       "      <th>Name</th>\n",
       "      <th>Country</th>\n",
       "      <th>Links</th>\n",
       "    </tr>\n",
       "  </thead>\n",
       "  <tbody>\n",
       "    <tr>\n",
       "      <th>0</th>\n",
       "      <td>RMDLT Portel-Pará REDD Project</td>\n",
       "      <td>Brazil</td>\n",
       "      <td>https://www.allcot.com/en/portfolio/rmdlt-port...</td>\n",
       "    </tr>\n",
       "    <tr>\n",
       "      <th>1</th>\n",
       "      <td>Loma Los Colorados Landfill Gas Project</td>\n",
       "      <td>Chile</td>\n",
       "      <td>https://www.allcot.com/en/portfolio/loma-los-c...</td>\n",
       "    </tr>\n",
       "    <tr>\n",
       "      <th>2</th>\n",
       "      <td>Auto-generation of renewable energy in the Cañ...</td>\n",
       "      <td>Colombia</td>\n",
       "      <td>https://www.allcot.com/en/portfolio/4-auto-gen...</td>\n",
       "    </tr>\n",
       "    <tr>\n",
       "      <th>3</th>\n",
       "      <td>Recovery and combustion of methane Cañaveralej...</td>\n",
       "      <td>Colombia</td>\n",
       "      <td>https://www.allcot.com/en/portfolio/3-recovery...</td>\n",
       "    </tr>\n",
       "    <tr>\n",
       "      <th>4</th>\n",
       "      <td>SHP Morro Azul CDM Project (JUN1164)</td>\n",
       "      <td>Colombia</td>\n",
       "      <td>https://www.allcot.com/en/portfolio/shp-morro-...</td>\n",
       "    </tr>\n",
       "    <tr>\n",
       "      <th>5</th>\n",
       "      <td>Durango – EcoMethane Landfill Gas to Energy Pr...</td>\n",
       "      <td>Mexico</td>\n",
       "      <td>https://www.allcot.com/en/portfolio/durango-ec...</td>\n",
       "    </tr>\n",
       "    <tr>\n",
       "      <th>6</th>\n",
       "      <td>Tecamac – EcoMethane Landfill Gas to Energy Pr...</td>\n",
       "      <td>Mexico</td>\n",
       "      <td>https://www.allcot.com/en/portfolio/tecamac_la...</td>\n",
       "    </tr>\n",
       "    <tr>\n",
       "      <th>7</th>\n",
       "      <td>Aguascalientes – EcoMethane Landfill Gas to En...</td>\n",
       "      <td>Mexico</td>\n",
       "      <td>https://www.allcot.com/en/portfolio/aguascalie...</td>\n",
       "    </tr>\n",
       "    <tr>\n",
       "      <th>8</th>\n",
       "      <td>Santa Marta Landfill Gas (LFG) Capture for Ele...</td>\n",
       "      <td>Chile</td>\n",
       "      <td>https://www.allcot.com/en/portfolio/santa-mart...</td>\n",
       "    </tr>\n",
       "  </tbody>\n",
       "</table>\n",
       "</div>"
      ],
      "text/plain": [
       "                                                Name   Country  \\\n",
       "0                     RMDLT Portel-Pará REDD Project    Brazil   \n",
       "1            Loma Los Colorados Landfill Gas Project     Chile   \n",
       "2  Auto-generation of renewable energy in the Cañ...  Colombia   \n",
       "3  Recovery and combustion of methane Cañaveralej...  Colombia   \n",
       "4               SHP Morro Azul CDM Project (JUN1164)  Colombia   \n",
       "5  Durango – EcoMethane Landfill Gas to Energy Pr...    Mexico   \n",
       "6  Tecamac – EcoMethane Landfill Gas to Energy Pr...    Mexico   \n",
       "7  Aguascalientes – EcoMethane Landfill Gas to En...    Mexico   \n",
       "8  Santa Marta Landfill Gas (LFG) Capture for Ele...     Chile   \n",
       "\n",
       "                                               Links  \n",
       "0  https://www.allcot.com/en/portfolio/rmdlt-port...  \n",
       "1  https://www.allcot.com/en/portfolio/loma-los-c...  \n",
       "2  https://www.allcot.com/en/portfolio/4-auto-gen...  \n",
       "3  https://www.allcot.com/en/portfolio/3-recovery...  \n",
       "4  https://www.allcot.com/en/portfolio/shp-morro-...  \n",
       "5  https://www.allcot.com/en/portfolio/durango-ec...  \n",
       "6  https://www.allcot.com/en/portfolio/tecamac_la...  \n",
       "7  https://www.allcot.com/en/portfolio/aguascalie...  \n",
       "8  https://www.allcot.com/en/portfolio/santa-mart...  "
      ]
     },
     "execution_count": 9,
     "metadata": {},
     "output_type": "execute_result"
    }
   ],
   "source": [
    "df"
   ]
  },
  {
   "cell_type": "code",
   "execution_count": 10,
   "id": "c2ab8925",
   "metadata": {},
   "outputs": [],
   "source": [
    "df.to_csv('webscrapingdata1.csv')"
   ]
  }
 ],
 "metadata": {
  "kernelspec": {
   "display_name": "Python 3 (ipykernel)",
   "language": "python",
   "name": "python3"
  },
  "language_info": {
   "codemirror_mode": {
    "name": "ipython",
    "version": 3
   },
   "file_extension": ".py",
   "mimetype": "text/x-python",
   "name": "python",
   "nbconvert_exporter": "python",
   "pygments_lexer": "ipython3",
   "version": "3.10.6"
  }
 },
 "nbformat": 4,
 "nbformat_minor": 5
}
